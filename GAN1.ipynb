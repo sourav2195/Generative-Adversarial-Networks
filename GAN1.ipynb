{
 "cells": [
  {
   "cell_type": "markdown",
   "metadata": {},
   "source": [
    "# Generative Adversarial Networks\n",
    " \n",
    "In this notebook we build a very simple pair of GANs.\n",
    " - The dataset is a dataset of 2x2 black and white images, where the images we want to generate are backwards diagonals (\\)\n",
    " - The neural networks only have one layer."
   ]
  },
  {
   "cell_type": "code",
   "execution_count": 1,
   "metadata": {},
   "outputs": [],
   "source": [
    "import numpy as np\n",
    "from numpy import random\n",
    "from matplotlib import pyplot as plt\n",
    "%matplotlib inline"
   ]
  },
  {
   "cell_type": "markdown",
   "metadata": {},
   "source": [
    "## Plotting function"
   ]
  },
  {
   "cell_type": "code",
   "execution_count": 3,
   "metadata": {},
   "outputs": [],
   "source": [
    "#Drawing Function\n",
    "\n",
    "def view_samples(samples,m,n):\n",
    "    fig, axes=plt.subplots(figsize=(10,10),nrows=m,ncols=n,sharey=True,sharex=True)\n",
    "    for ax,img in zip(axes.flatten(),samples):\n",
    "        #ax.xaxis.set_visible(False)\n",
    "        #ax.yaxis.set_visible(False)\n",
    "        im=ax.imshow(1-img.reshape(2,2),cmap='Greys_r')\n",
    "    return fig,axes"
   ]
  },
  {
   "cell_type": "markdown",
   "metadata": {},
   "source": [
    "## Examples of Images"
   ]
  },
  {
   "cell_type": "code",
   "execution_count": 4,
   "metadata": {},
   "outputs": [
    {
     "data": {
      "image/png": "[encoded data removed]",
      "text/plain": [
       "<Figure size 720x720 with 4 Axes>"
      ]
     },
     "metadata": {
      "needs_background": "light"
     },
     "output_type": "display_data"
    }
   ],
   "source": [
    "images=[np.array([1,0,0,1]),\n",
    "       np.array([0.9,0.1,0.2,0.8]),\n",
    "       np.array([0.9,0.2,0.1,0.8]),\n",
    "       np.array([0.8,0.2,0.1,0.9])]\n",
    "_=view_samples(images,1,4)"
   ]
  },
  {
   "cell_type": "markdown",
   "metadata": {},
   "source": [
    "## Examplesof noise\n",
    "The following are randomly generated images"
   ]
  },
  {
   "cell_type": "code",
   "execution_count": 13,
   "metadata": {},
   "outputs": [
    {
     "data": {
      "image/png": "[encoded data removed]",
      "text/plain": [
       "<Figure size 720x720 with 20 Axes>"
      ]
     },
     "metadata": {
      "needs_background": "light"
     },
     "output_type": "display_data"
    }
   ],
   "source": [
    "noise=[np.random.randn(2,2) for i in range(20)]\n",
    "\n",
    "#np.random.random() Return random floats in the half-open interval [0.0, 1.0)\n",
    "def generate_random_image():\n",
    "    return [np.random.random(), np.random.random(),np.random.random(),np.random.random()]\n",
    "\n",
    "_=view_samples(noise,4,5)\n",
    "#print(generate_random_image())"
   ]
  },
  {
   "cell_type": "markdown",
   "metadata": {},
   "source": [
    "## Building the neural networks"
   ]
  },
  {
   "cell_type": "code",
   "execution_count": 15,
   "metadata": {},
   "outputs": [],
   "source": [
    "#The sigmoid activation function\n",
    "def sigmoid(x):\n",
    "    return np.exp(x)/(1.0+np.exp(x))"
   ]
  },
  {
   "cell_type": "markdown",
   "metadata": {},
   "source": [
    "## The Discriminator"
   ]
  },
  {
   "cell_type": "code",
   "execution_count": 51,
   "metadata": {},
   "outputs": [],
   "source": [
    "class Discriminator():\n",
    "    def __init__(self):\n",
    "        self.weights=np.array([np.random.normal() for i in range(4)])\n",
    "        self.bias=np.array([np.random.normal() for i in range(4)])\n",
    "        \n",
    "    def forward(self,z):\n",
    "        #forward propagation\n",
    "        return sigmoid(np.dot(z,self.weights)+self.bias)\n",
    "    \n",
    "# When the discriminator predict the image is real,so it wants to be 1, so error is -log(prediction)\n",
    "    def error_from_image(self,image):\n",
    "        prediction=self.forward(image)\n",
    "        return -np.log(prediction)\n",
    "\n",
    "# For backpropagation for real image : W:- -image(1-prediction) b: -(1-prediction)\n",
    "    def derivatives_for_image(self,image):\n",
    "        prediction=self.forward(image)\n",
    "        weights_derivative= -image(1-prediction)\n",
    "        bias_derivative=-(1-prediction)\n",
    "        return weights_derivative, bias_derivative\n",
    "\n",
    "#Update weights and bias from derivative   \n",
    "    def update_from_image(self,z):\n",
    "        dervs=derivatives_for_image(z)\n",
    "        self.weights -=learning_rate*dervs[0]\n",
    "        self.bias -=learning_rate*dervs[0]\n",
    "\n",
    "# When the discriminator predict the image is fake ,so it wants to be 0 , so error is -log(1-prediction)         \n",
    "    def error_from_noise(self,noise):\n",
    "        prediction=self.forward(noise)\n",
    "        return -np.lof(1-prediction)\n",
    "\n",
    "# For Backpropagation for fake image generated by generator : W: noise_image*prediction , b: prediction \n",
    "    def defivative_for_noise(self,noise):\n",
    "        prediction=self.forward(noise)\n",
    "        weights_derivative= noise*prediction\n",
    "        bias_derivative= prediction\n",
    "        return weights_derivative, bias_derivative\n",
    "    \n",
    "#Update weights and bias from derivative\n",
    "    def update_from_noise(self,noise):\n",
    "        dervs= self.defivative_for_noise(noise)\n",
    "        self.weights -=learning_rate*dervs[0]\n",
    "        self.bias -=learning_rate*dervs[1]\n",
    "      "
   ]
  },
  {
   "cell_type": "markdown",
   "metadata": {},
   "source": [
    "## The generator"
   ]
  },
  {
   "cell_type": "code",
   "execution_count": 56,
   "metadata": {},
   "outputs": [],
   "source": [
    "class Generator():\n",
    "    def __init__(self):\n",
    "        self.weights=np.array([np.random.normal() for i in range(4)])\n",
    "        self.bias=np.array([np.random.normal() for i in range(4)])\n",
    "        \n",
    "    def forward(self,z):\n",
    "        #forward propagation\n",
    "        return sigmoid(z*self.weights + self.bias)\n",
    "    \n",
    "    def error(self,z,discriminator):\n",
    "        x=self.forward(z)\n",
    "        # We want the prediction to be 0, so the error is -log(1-prediction)\n",
    "        y= discriminator.forward(x)\n",
    "        return -np.log(y)\n",
    "    \n",
    "    def derivatives(self,z,discriminator):\n",
    "        discriminator_weights=discriminator.weights\n",
    "        discriminator_bias=discriminator.bias\n",
    "        x=self.forward(z)\n",
    "        y=discriminator.forward(x)\n",
    "        factor= -(1-y)*discriminator_weights*x*(1-x)\n",
    "        weights_derivative=factor*z\n",
    "        bias_derivative=factor\n",
    "        return weights_derivative, bias_derivative\n",
    "    \n",
    "    def update(self,z,discriminator):\n",
    "        error_before=self.error(z,discriminator)\n",
    "        dervs=self.derivatives(z,discriminator)\n",
    "        self.weights -=learning_rate*dervs[0]\n",
    "        self.bias -=learning_rate*dervs[1]\n",
    "        error_after=self.error(z,discriminator)\n",
    "         \n",
    "    "
   ]
  },
  {
   "cell_type": "markdown",
   "metadata": {},
   "source": [
    "## Training"
   ]
  },
  {
   "cell_type": "code",
   "execution_count": 58,
   "metadata": {},
   "outputs": [
    {
     "data": {
      "text/plain": [
       "__main__.Discriminator"
      ]
     },
     "execution_count": 58,
     "metadata": {},
     "output_type": "execute_result"
    }
   ],
   "source": [
    "#set random seed\n",
    "np.random.seed(10)\n",
    "\n",
    "# Hyperameters\n",
    "learning_rate=0.01\n",
    "epochs=1000\n",
    "\n",
    "# The GAN\n",
    "D = Discriminator()\n",
    "G = Generator()\n",
    "\n",
    "#For the error plot\n",
    "error_discriminator=[]\n",
    "error_generator=[]\n",
    "\n",
    "for epoch in range(epochs):\n",
    "    for img in images:\n",
    "        \n"
   ]
  },
  {
   "cell_type": "code",
   "execution_count": 49,
   "metadata": {},
   "outputs": [
    {
     "data": {
      "text/plain": [
       "0.2718157727412842"
      ]
     },
     "execution_count": 49,
     "metadata": {},
     "output_type": "execute_result"
    }
   ],
   "source": [
    "a=np.array(['a','b'])\n",
    "b=np.array(['c','d'])\n",
    "#a*b\n",
    "z = random.rand()\n",
    "z"
   ]
  }
 ],
 "metadata": {
  "kernelspec": {
   "display_name": "Python 3",
   "language": "python",
   "name": "python3"
  },
  "language_info": {
   "codemirror_mode": {
    "name": "ipython",
    "version": 3
   },
   "file_extension": ".py",
   "mimetype": "text/x-python",
   "name": "python",
   "nbconvert_exporter": "python",
   "pygments_lexer": "ipython3",
   "version": "3.7.7"
  }
 },
 "nbformat": 4,
 "nbformat_minor": 4
}
